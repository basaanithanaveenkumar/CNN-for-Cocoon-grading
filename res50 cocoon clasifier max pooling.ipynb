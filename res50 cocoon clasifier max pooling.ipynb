{
 "cells": [
  {
   "cell_type": "code",
   "execution_count": 13,
   "metadata": {
    "button": false,
    "new_sheet": false,
    "run_control": {
     "read_only": false
    }
   },
   "outputs": [],
   "source": [
    "from tensorflow.keras.preprocessing.image import ImageDataGenerator"
   ]
  },
  {
   "cell_type": "code",
   "execution_count": 14,
   "metadata": {},
   "outputs": [],
   "source": [
    "import tensorflow as tf\n",
    "from tensorflow.keras.models import Sequential"
   ]
  },
  {
   "cell_type": "code",
   "execution_count": 15,
   "metadata": {
    "button": false,
    "new_sheet": false,
    "run_control": {
     "read_only": false
    }
   },
   "outputs": [],
   "source": [
    "\n",
    "from tensorflow.keras.models import Sequential\n",
    "from tensorflow.keras.layers import Dense"
   ]
  },
  {
   "cell_type": "code",
   "execution_count": 16,
   "metadata": {
    "button": false,
    "new_sheet": false,
    "run_control": {
     "read_only": false
    }
   },
   "outputs": [],
   "source": [
    "from tensorflow.keras.applications import ResNet50\n",
    "from tensorflow.keras.applications.resnet50 import preprocess_input"
   ]
  },
  {
   "cell_type": "markdown",
   "metadata": {
    "button": false,
    "new_sheet": false,
    "run_control": {
     "read_only": false
    }
   },
   "source": [
    "<a id='item32'></a>"
   ]
  },
  {
   "cell_type": "code",
   "execution_count": 17,
   "metadata": {
    "button": false,
    "new_sheet": false,
    "run_control": {
     "read_only": false
    }
   },
   "outputs": [],
   "source": [
    "num_classes = 2\n",
    "\n",
    "image_resize = 224\n",
    "\n",
    "batch_size_training = 100\n",
    "batch_size_validation = 100"
   ]
  },
  {
   "cell_type": "markdown",
   "metadata": {
    "button": false,
    "new_sheet": false,
    "run_control": {
     "read_only": false
    }
   },
   "source": [
    "<a id='item34'></a>"
   ]
  },
  {
   "cell_type": "markdown",
   "metadata": {
    "button": false,
    "new_sheet": false,
    "run_control": {
     "read_only": false
    }
   },
   "source": [
    "## Construct ImageDataGenerator Instances"
   ]
  },
  {
   "cell_type": "code",
   "execution_count": 18,
   "metadata": {
    "button": false,
    "new_sheet": false,
    "run_control": {
     "read_only": false
    }
   },
   "outputs": [],
   "source": [
    "data_generator = ImageDataGenerator(\n",
    "    preprocessing_function=preprocess_input,\n",
    ")"
   ]
  },
  {
   "cell_type": "code",
   "execution_count": 19,
   "metadata": {
    "button": false,
    "new_sheet": false,
    "run_control": {
     "read_only": false
    }
   },
   "outputs": [
    {
     "name": "stdout",
     "output_type": "stream",
     "text": [
      "Found 197 images belonging to 2 classes.\n"
     ]
    }
   ],
   "source": [
    "train_generator = data_generator.flow_from_directory(\n",
    "    'data - Copy/train',\n",
    "    target_size=(image_resize, image_resize),\n",
    "    batch_size=batch_size_training,\n",
    "    class_mode='categorical')"
   ]
  },
  {
   "cell_type": "code",
   "execution_count": 20,
   "metadata": {
    "button": false,
    "new_sheet": false,
    "run_control": {
     "read_only": false
    }
   },
   "outputs": [
    {
     "name": "stdout",
     "output_type": "stream",
     "text": [
      "Found 39 images belonging to 2 classes.\n"
     ]
    }
   ],
   "source": [
    "## Type your answer here\n",
    "validation_generator = data_generator.flow_from_directory(\n",
    "    'data - Copy/test',\n",
    "    target_size=(image_resize, image_resize),\n",
    "    batch_size=batch_size_validation,\n",
    "    class_mode='categorical')\n",
    "\n",
    "\n"
   ]
  },
  {
   "cell_type": "markdown",
   "metadata": {
    "button": false,
    "new_sheet": false,
    "run_control": {
     "read_only": false
    }
   },
   "source": [
    "<a id='item35'></a>"
   ]
  },
  {
   "cell_type": "markdown",
   "metadata": {
    "button": false,
    "new_sheet": false,
    "run_control": {
     "read_only": false
    }
   },
   "source": [
    "## Build, Compile and Fit Model"
   ]
  },
  {
   "cell_type": "code",
   "execution_count": 21,
   "metadata": {
    "button": false,
    "new_sheet": false,
    "run_control": {
     "read_only": false
    },
    "scrolled": true
   },
   "outputs": [],
   "source": [
    "model = Sequential()"
   ]
  },
  {
   "cell_type": "code",
   "execution_count": 22,
   "metadata": {
    "button": false,
    "new_sheet": false,
    "run_control": {
     "read_only": false
    }
   },
   "outputs": [
    {
     "name": "stdout",
     "output_type": "stream",
     "text": [
      "Downloading data from https://storage.googleapis.com/tensorflow/keras-applications/resnet/resnet50_weights_tf_dim_ordering_tf_kernels_notop.h5\n",
      "94773248/94765736 [==============================] - 574s 6us/step\n"
     ]
    }
   ],
   "source": [
    "model.add(ResNet50(\n",
    "    include_top=False,\n",
    "    pooling='max',\n",
    "    weights='imagenet',\n",
    "    ))"
   ]
  },
  {
   "cell_type": "code",
   "execution_count": 23,
   "metadata": {
    "button": false,
    "new_sheet": false,
    "run_control": {
     "read_only": false
    }
   },
   "outputs": [],
   "source": [
    "model.add(Dense(num_classes, activation='softmax'))"
   ]
  },
  {
   "cell_type": "code",
   "execution_count": 24,
   "metadata": {
    "button": false,
    "new_sheet": false,
    "run_control": {
     "read_only": false
    }
   },
   "outputs": [
    {
     "data": {
      "text/plain": [
       "[<tensorflow.python.keras.engine.training.Model at 0x1a7cd161d00>,\n",
       " <tensorflow.python.keras.layers.core.Dense at 0x1a7c0b1c8e0>]"
      ]
     },
     "execution_count": 24,
     "metadata": {},
     "output_type": "execute_result"
    }
   ],
   "source": [
    "model.layers"
   ]
  },
  {
   "cell_type": "code",
   "execution_count": 25,
   "metadata": {
    "button": false,
    "new_sheet": false,
    "run_control": {
     "read_only": false
    },
    "scrolled": true
   },
   "outputs": [
    {
     "data": {
      "text/plain": [
       "[<tensorflow.python.keras.engine.input_layer.InputLayer at 0x1a7c0b1c9a0>,\n",
       " <tensorflow.python.keras.layers.convolutional.ZeroPadding2D at 0x1a7c0b1cc70>,\n",
       " <tensorflow.python.keras.layers.convolutional.Conv2D at 0x1a7c0b2fdf0>,\n",
       " <tensorflow.python.keras.layers.normalization_v2.BatchNormalization at 0x1a7c0b2f760>,\n",
       " <tensorflow.python.keras.layers.core.Activation at 0x1a7c0b86e80>,\n",
       " <tensorflow.python.keras.layers.convolutional.ZeroPadding2D at 0x1a7c0bc8e20>,\n",
       " <tensorflow.python.keras.layers.pooling.MaxPooling2D at 0x1a7c0be02e0>,\n",
       " <tensorflow.python.keras.layers.convolutional.Conv2D at 0x1a7c0cc52b0>,\n",
       " <tensorflow.python.keras.layers.normalization_v2.BatchNormalization at 0x1a7c0cc82e0>,\n",
       " <tensorflow.python.keras.layers.core.Activation at 0x1a7c0d1ac70>,\n",
       " <tensorflow.python.keras.layers.convolutional.Conv2D at 0x1a7c0d0cbe0>,\n",
       " <tensorflow.python.keras.layers.normalization_v2.BatchNormalization at 0x1a7c0d0c0a0>,\n",
       " <tensorflow.python.keras.layers.core.Activation at 0x1a7c0ea0c10>,\n",
       " <tensorflow.python.keras.layers.convolutional.Conv2D at 0x1a7c0c92d90>,\n",
       " <tensorflow.python.keras.layers.convolutional.Conv2D at 0x1a7c0e924f0>,\n",
       " <tensorflow.python.keras.layers.normalization_v2.BatchNormalization at 0x1a7c0c921f0>,\n",
       " <tensorflow.python.keras.layers.normalization_v2.BatchNormalization at 0x1a7c7fd4bb0>,\n",
       " <tensorflow.python.keras.layers.merge.Add at 0x1a7c7fe7b80>,\n",
       " <tensorflow.python.keras.layers.core.Activation at 0x1a7c7fda880>,\n",
       " <tensorflow.python.keras.layers.convolutional.Conv2D at 0x1a7c7fdac40>,\n",
       " <tensorflow.python.keras.layers.normalization_v2.BatchNormalization at 0x1a7c7fda490>,\n",
       " <tensorflow.python.keras.layers.core.Activation at 0x1a7c8047400>,\n",
       " <tensorflow.python.keras.layers.convolutional.Conv2D at 0x1a7c803a790>,\n",
       " <tensorflow.python.keras.layers.normalization_v2.BatchNormalization at 0x1a7c803aa00>,\n",
       " <tensorflow.python.keras.layers.core.Activation at 0x1a7c80bf370>,\n",
       " <tensorflow.python.keras.layers.convolutional.Conv2D at 0x1a7c80b3970>,\n",
       " <tensorflow.python.keras.layers.normalization_v2.BatchNormalization at 0x1a7c80f6610>,\n",
       " <tensorflow.python.keras.layers.merge.Add at 0x1a7c8113370>,\n",
       " <tensorflow.python.keras.layers.core.Activation at 0x1a7c8109760>,\n",
       " <tensorflow.python.keras.layers.convolutional.Conv2D at 0x1a7c81097f0>,\n",
       " <tensorflow.python.keras.layers.normalization_v2.BatchNormalization at 0x1a7c81093d0>,\n",
       " <tensorflow.python.keras.layers.core.Activation at 0x1a7c8184f10>,\n",
       " <tensorflow.python.keras.layers.convolutional.Conv2D at 0x1a7c8180790>,\n",
       " <tensorflow.python.keras.layers.normalization_v2.BatchNormalization at 0x1a7c8180e50>,\n",
       " <tensorflow.python.keras.layers.core.Activation at 0x1a7c8351790>,\n",
       " <tensorflow.python.keras.layers.convolutional.Conv2D at 0x1a7c83457c0>,\n",
       " <tensorflow.python.keras.layers.normalization_v2.BatchNormalization at 0x1a7c88dafa0>,\n",
       " <tensorflow.python.keras.layers.merge.Add at 0x1a7c88f4730>,\n",
       " <tensorflow.python.keras.layers.core.Activation at 0x1a7c88f0760>,\n",
       " <tensorflow.python.keras.layers.convolutional.Conv2D at 0x1a7c9922be0>,\n",
       " <tensorflow.python.keras.layers.normalization_v2.BatchNormalization at 0x1a7c99220d0>,\n",
       " <tensorflow.python.keras.layers.core.Activation at 0x1a7c9978670>,\n",
       " <tensorflow.python.keras.layers.convolutional.Conv2D at 0x1a7c996b640>,\n",
       " <tensorflow.python.keras.layers.normalization_v2.BatchNormalization at 0x1a7c996bc70>,\n",
       " <tensorflow.python.keras.layers.core.Activation at 0x1a7c99d05e0>,\n",
       " <tensorflow.python.keras.layers.convolutional.Conv2D at 0x1a7c88f0940>,\n",
       " <tensorflow.python.keras.layers.convolutional.Conv2D at 0x1a7c99c3970>,\n",
       " <tensorflow.python.keras.layers.normalization_v2.BatchNormalization at 0x1a7c88f09d0>,\n",
       " <tensorflow.python.keras.layers.normalization_v2.BatchNormalization at 0x1a7c9a09970>,\n",
       " <tensorflow.python.keras.layers.merge.Add at 0x1a7c9a26580>,\n",
       " <tensorflow.python.keras.layers.core.Activation at 0x1a7c9a1a970>,\n",
       " <tensorflow.python.keras.layers.convolutional.Conv2D at 0x1a7c9a1aac0>,\n",
       " <tensorflow.python.keras.layers.normalization_v2.BatchNormalization at 0x1a7c9a1aa00>,\n",
       " <tensorflow.python.keras.layers.core.Activation at 0x1a7c9a7ea60>,\n",
       " <tensorflow.python.keras.layers.convolutional.Conv2D at 0x1a7c9a73700>,\n",
       " <tensorflow.python.keras.layers.normalization_v2.BatchNormalization at 0x1a7c9a73040>,\n",
       " <tensorflow.python.keras.layers.core.Activation at 0x1a7c9ad49a0>,\n",
       " <tensorflow.python.keras.layers.convolutional.Conv2D at 0x1a7c9ac7850>,\n",
       " <tensorflow.python.keras.layers.normalization_v2.BatchNormalization at 0x1a7c9b1a940>,\n",
       " <tensorflow.python.keras.layers.merge.Add at 0x1a7c9b2e940>,\n",
       " <tensorflow.python.keras.layers.core.Activation at 0x1a7c9b1e280>,\n",
       " <tensorflow.python.keras.layers.convolutional.Conv2D at 0x1a7c9b1e850>,\n",
       " <tensorflow.python.keras.layers.normalization_v2.BatchNormalization at 0x1a7c9b1e1c0>,\n",
       " <tensorflow.python.keras.layers.core.Activation at 0x1a7c9b8a190>,\n",
       " <tensorflow.python.keras.layers.convolutional.Conv2D at 0x1a7c9b74d00>,\n",
       " <tensorflow.python.keras.layers.normalization_v2.BatchNormalization at 0x1a7c9b740d0>,\n",
       " <tensorflow.python.keras.layers.core.Activation at 0x1a7c9be0100>,\n",
       " <tensorflow.python.keras.layers.convolutional.Conv2D at 0x1a7c9bcca90>,\n",
       " <tensorflow.python.keras.layers.normalization_v2.BatchNormalization at 0x1a7c097a1f0>,\n",
       " <tensorflow.python.keras.layers.merge.Add at 0x1a7bff54b20>,\n",
       " <tensorflow.python.keras.layers.core.Activation at 0x1a7c0972460>,\n",
       " <tensorflow.python.keras.layers.convolutional.Conv2D at 0x1a7add377c0>,\n",
       " <tensorflow.python.keras.layers.normalization_v2.BatchNormalization at 0x1a7add37550>,\n",
       " <tensorflow.python.keras.layers.core.Activation at 0x1a7c9c74bb0>,\n",
       " <tensorflow.python.keras.layers.convolutional.Conv2D at 0x1a7c9c688b0>,\n",
       " <tensorflow.python.keras.layers.normalization_v2.BatchNormalization at 0x1a7c9c68940>,\n",
       " <tensorflow.python.keras.layers.core.Activation at 0x1a7c9cccb50>,\n",
       " <tensorflow.python.keras.layers.convolutional.Conv2D at 0x1a7c9cbea00>,\n",
       " <tensorflow.python.keras.layers.normalization_v2.BatchNormalization at 0x1a7c9d0fb50>,\n",
       " <tensorflow.python.keras.layers.merge.Add at 0x1a7c9d22b20>,\n",
       " <tensorflow.python.keras.layers.core.Activation at 0x1a7c9d169d0>,\n",
       " <tensorflow.python.keras.layers.convolutional.Conv2D at 0x1a7c9d6ba90>,\n",
       " <tensorflow.python.keras.layers.normalization_v2.BatchNormalization at 0x1a7c9d81100>,\n",
       " <tensorflow.python.keras.layers.core.Activation at 0x1a7c9dd1af0>,\n",
       " <tensorflow.python.keras.layers.convolutional.Conv2D at 0x1a7c9dc6790>,\n",
       " <tensorflow.python.keras.layers.normalization_v2.BatchNormalization at 0x1a7c9dc65e0>,\n",
       " <tensorflow.python.keras.layers.core.Activation at 0x1a7c9e2aac0>,\n",
       " <tensorflow.python.keras.layers.convolutional.Conv2D at 0x1a7c9d16af0>,\n",
       " <tensorflow.python.keras.layers.convolutional.Conv2D at 0x1a7c9e1c970>,\n",
       " <tensorflow.python.keras.layers.normalization_v2.BatchNormalization at 0x1a7c9d16a60>,\n",
       " <tensorflow.python.keras.layers.normalization_v2.BatchNormalization at 0x1a7c9e6eac0>,\n",
       " <tensorflow.python.keras.layers.merge.Add at 0x1a7c9eb1460>,\n",
       " <tensorflow.python.keras.layers.core.Activation at 0x1a7c9e79af0>,\n",
       " <tensorflow.python.keras.layers.convolutional.Conv2D at 0x1a7c9e72160>,\n",
       " <tensorflow.python.keras.layers.normalization_v2.BatchNormalization at 0x1a7c9e72520>,\n",
       " <tensorflow.python.keras.layers.core.Activation at 0x1a7c9edc070>,\n",
       " <tensorflow.python.keras.layers.convolutional.Conv2D at 0x1a7c9ec8df0>,\n",
       " <tensorflow.python.keras.layers.normalization_v2.BatchNormalization at 0x1a7c9f10a30>,\n",
       " <tensorflow.python.keras.layers.core.Activation at 0x1a7c9f35280>,\n",
       " <tensorflow.python.keras.layers.convolutional.Conv2D at 0x1a7c9f20f10>,\n",
       " <tensorflow.python.keras.layers.normalization_v2.BatchNormalization at 0x1a7c9f70f10>,\n",
       " <tensorflow.python.keras.layers.merge.Add at 0x1a7c9f8c100>,\n",
       " <tensorflow.python.keras.layers.core.Activation at 0x1a7c9f78d30>,\n",
       " <tensorflow.python.keras.layers.convolutional.Conv2D at 0x1a7c9f85250>,\n",
       " <tensorflow.python.keras.layers.normalization_v2.BatchNormalization at 0x1a7c9f85040>,\n",
       " <tensorflow.python.keras.layers.core.Activation at 0x1a7c9fe2460>,\n",
       " <tensorflow.python.keras.layers.convolutional.Conv2D at 0x1a7c9fd67f0>,\n",
       " <tensorflow.python.keras.layers.normalization_v2.BatchNormalization at 0x1a7c9fd6a60>,\n",
       " <tensorflow.python.keras.layers.core.Activation at 0x1a7ca0393d0>,\n",
       " <tensorflow.python.keras.layers.convolutional.Conv2D at 0x1a7ca02e880>,\n",
       " <tensorflow.python.keras.layers.normalization_v2.BatchNormalization at 0x1a7ca070ac0>,\n",
       " <tensorflow.python.keras.layers.merge.Add at 0x1a7ca08a3a0>,\n",
       " <tensorflow.python.keras.layers.core.Activation at 0x1a7ca084790>,\n",
       " <tensorflow.python.keras.layers.convolutional.Conv2D at 0x1a7ca084820>,\n",
       " <tensorflow.python.keras.layers.normalization_v2.BatchNormalization at 0x1a7ca084400>,\n",
       " <tensorflow.python.keras.layers.core.Activation at 0x1a7ca1194c0>,\n",
       " <tensorflow.python.keras.layers.convolutional.Conv2D at 0x1a7ca0dc880>,\n",
       " <tensorflow.python.keras.layers.normalization_v2.BatchNormalization at 0x1a7ca0dceb0>,\n",
       " <tensorflow.python.keras.layers.core.Activation at 0x1a7ca139e20>,\n",
       " <tensorflow.python.keras.layers.convolutional.Conv2D at 0x1a7ca133730>,\n",
       " <tensorflow.python.keras.layers.normalization_v2.BatchNormalization at 0x1a7ca175f70>,\n",
       " <tensorflow.python.keras.layers.merge.Add at 0x1a7ca196820>,\n",
       " <tensorflow.python.keras.layers.core.Activation at 0x1a7ca18a940>,\n",
       " <tensorflow.python.keras.layers.convolutional.Conv2D at 0x1a7ca9adf70>,\n",
       " <tensorflow.python.keras.layers.normalization_v2.BatchNormalization at 0x1a7ca9adaf0>,\n",
       " <tensorflow.python.keras.layers.core.Activation at 0x1a7ca9cd0a0>,\n",
       " <tensorflow.python.keras.layers.convolutional.Conv2D at 0x1a7ca9c1460>,\n",
       " <tensorflow.python.keras.layers.normalization_v2.BatchNormalization at 0x1a7ca9c1ac0>,\n",
       " <tensorflow.python.keras.layers.core.Activation at 0x1a7caa24ee0>,\n",
       " <tensorflow.python.keras.layers.convolutional.Conv2D at 0x1a7caa55730>,\n",
       " <tensorflow.python.keras.layers.normalization_v2.BatchNormalization at 0x1a7caa69ca0>,\n",
       " <tensorflow.python.keras.layers.merge.Add at 0x1a7caa7bc70>,\n",
       " <tensorflow.python.keras.layers.core.Activation at 0x1a7caa6e940>,\n",
       " <tensorflow.python.keras.layers.convolutional.Conv2D at 0x1a7caa6eee0>,\n",
       " <tensorflow.python.keras.layers.normalization_v2.BatchNormalization at 0x1a7caa6e970>,\n",
       " <tensorflow.python.keras.layers.core.Activation at 0x1a7cc1248b0>,\n",
       " <tensorflow.python.keras.layers.convolutional.Conv2D at 0x1a7cc12d310>,\n",
       " <tensorflow.python.keras.layers.normalization_v2.BatchNormalization at 0x1a7cc12d7c0>,\n",
       " <tensorflow.python.keras.layers.core.Activation at 0x1a7cc190130>,\n",
       " <tensorflow.python.keras.layers.convolutional.Conv2D at 0x1a7cc17c520>,\n",
       " <tensorflow.python.keras.layers.normalization_v2.BatchNormalization at 0x1a7cc1ca9d0>,\n",
       " <tensorflow.python.keras.layers.merge.Add at 0x1a7cc1e91c0>,\n",
       " <tensorflow.python.keras.layers.core.Activation at 0x1a7cc1d38e0>,\n",
       " <tensorflow.python.keras.layers.convolutional.Conv2D at 0x1a7cc239fd0>,\n",
       " <tensorflow.python.keras.layers.normalization_v2.BatchNormalization at 0x1a7cc23d640>,\n",
       " <tensorflow.python.keras.layers.core.Activation at 0x1a7cc515190>,\n",
       " <tensorflow.python.keras.layers.convolutional.Conv2D at 0x1a7cc501fd0>,\n",
       " <tensorflow.python.keras.layers.normalization_v2.BatchNormalization at 0x1a7cc5018e0>,\n",
       " <tensorflow.python.keras.layers.core.Activation at 0x1a7cc569160>,\n",
       " <tensorflow.python.keras.layers.convolutional.Conv2D at 0x1a7cc1dc100>,\n",
       " <tensorflow.python.keras.layers.convolutional.Conv2D at 0x1a7cc559fd0>,\n",
       " <tensorflow.python.keras.layers.normalization_v2.BatchNormalization at 0x1a7cc1dce50>,\n",
       " <tensorflow.python.keras.layers.normalization_v2.BatchNormalization at 0x1a7cc5a43a0>,\n",
       " <tensorflow.python.keras.layers.merge.Add at 0x1a7cc5c3130>,\n",
       " <tensorflow.python.keras.layers.core.Activation at 0x1a7cc5aefd0>,\n",
       " <tensorflow.python.keras.layers.convolutional.Conv2D at 0x1a7cc5ba6a0>,\n",
       " <tensorflow.python.keras.layers.normalization_v2.BatchNormalization at 0x1a7cc5ba4c0>,\n",
       " <tensorflow.python.keras.layers.core.Activation at 0x1a7cc9685b0>,\n",
       " <tensorflow.python.keras.layers.convolutional.Conv2D at 0x1a7cc95f910>,\n",
       " <tensorflow.python.keras.layers.normalization_v2.BatchNormalization at 0x1a7cc95fbb0>,\n",
       " <tensorflow.python.keras.layers.core.Activation at 0x1a7ccc205b0>,\n",
       " <tensorflow.python.keras.layers.convolutional.Conv2D at 0x1a7ccc15940>,\n",
       " <tensorflow.python.keras.layers.normalization_v2.BatchNormalization at 0x1a7ccc58fd0>,\n",
       " <tensorflow.python.keras.layers.merge.Add at 0x1a7ccc70550>,\n",
       " <tensorflow.python.keras.layers.core.Activation at 0x1a7ccc6e940>,\n",
       " <tensorflow.python.keras.layers.convolutional.Conv2D at 0x1a7ccc6ea90>,\n",
       " <tensorflow.python.keras.layers.normalization_v2.BatchNormalization at 0x1a7ccc6e9d0>,\n",
       " <tensorflow.python.keras.layers.core.Activation at 0x1a7cd0a0550>,\n",
       " <tensorflow.python.keras.layers.convolutional.Conv2D at 0x1a7cccc5be0>,\n",
       " <tensorflow.python.keras.layers.normalization_v2.BatchNormalization at 0x1a7cccc9ac0>,\n",
       " <tensorflow.python.keras.layers.core.Activation at 0x1a7cd0c7a00>,\n",
       " <tensorflow.python.keras.layers.convolutional.Conv2D at 0x1a7cd0b88b0>,\n",
       " <tensorflow.python.keras.layers.normalization_v2.BatchNormalization at 0x1a7cd10ba00>,\n",
       " <tensorflow.python.keras.layers.merge.Add at 0x1a7cd11e9d0>,\n",
       " <tensorflow.python.keras.layers.core.Activation at 0x1a7cd110880>,\n",
       " <tensorflow.python.keras.layers.pooling.GlobalMaxPooling2D at 0x1a7cd1109a0>]"
      ]
     },
     "execution_count": 25,
     "metadata": {},
     "output_type": "execute_result"
    }
   ],
   "source": [
    "model.layers[0].layers"
   ]
  },
  {
   "cell_type": "code",
   "execution_count": 26,
   "metadata": {
    "button": false,
    "new_sheet": false,
    "run_control": {
     "read_only": false
    }
   },
   "outputs": [],
   "source": [
    "model.layers[0].trainable = False"
   ]
  },
  {
   "cell_type": "code",
   "execution_count": 27,
   "metadata": {
    "button": false,
    "new_sheet": false,
    "run_control": {
     "read_only": false
    }
   },
   "outputs": [
    {
     "name": "stdout",
     "output_type": "stream",
     "text": [
      "Model: \"sequential\"\n",
      "_________________________________________________________________\n",
      "Layer (type)                 Output Shape              Param #   \n",
      "=================================================================\n",
      "resnet50 (Model)             (None, 2048)              23587712  \n",
      "_________________________________________________________________\n",
      "dense (Dense)                (None, 2)                 4098      \n",
      "=================================================================\n",
      "Total params: 23,591,810\n",
      "Trainable params: 4,098\n",
      "Non-trainable params: 23,587,712\n",
      "_________________________________________________________________\n"
     ]
    }
   ],
   "source": [
    "model.summary()"
   ]
  },
  {
   "cell_type": "code",
   "execution_count": 28,
   "metadata": {
    "button": false,
    "new_sheet": false,
    "run_control": {
     "read_only": false
    }
   },
   "outputs": [],
   "source": [
    "model.compile(optimizer='adam', loss='categorical_crossentropy', metrics=['accuracy'])"
   ]
  },
  {
   "cell_type": "code",
   "execution_count": 29,
   "metadata": {
    "button": false,
    "new_sheet": false,
    "run_control": {
     "read_only": false
    }
   },
   "outputs": [],
   "source": [
    "steps_per_epoch_training = len(train_generator)\n",
    "steps_per_epoch_validation = len(validation_generator)\n",
    "num_epochs = 17"
   ]
  },
  {
   "cell_type": "code",
   "execution_count": 30,
   "metadata": {
    "button": false,
    "new_sheet": false,
    "run_control": {
     "read_only": false
    }
   },
   "outputs": [
    {
     "name": "stdout",
     "output_type": "stream",
     "text": [
      "WARNING:tensorflow:From <ipython-input-30-172e67583a70>:1: Model.fit_generator (from tensorflow.python.keras.engine.training) is deprecated and will be removed in a future version.\n",
      "Instructions for updating:\n",
      "Please use Model.fit, which supports generators.\n",
      "Epoch 1/17\n",
      "2/2 [==============================] - 13s 7s/step - loss: 4.0438 - accuracy: 0.4873 - val_loss: 2.4112 - val_accuracy: 0.6154\n",
      "Epoch 2/17\n",
      "2/2 [==============================] - 8s 4s/step - loss: 2.5057 - accuracy: 0.5482 - val_loss: 1.2143 - val_accuracy: 0.7179\n",
      "Epoch 3/17\n",
      "2/2 [==============================] - 9s 4s/step - loss: 2.3338 - accuracy: 0.6193 - val_loss: 0.7682 - val_accuracy: 0.8205\n",
      "Epoch 4/17\n",
      "2/2 [==============================] - 9s 5s/step - loss: 1.2425 - accuracy: 0.6954 - val_loss: 1.0689 - val_accuracy: 0.7692\n",
      "Epoch 5/17\n",
      "2/2 [==============================] - 10s 5s/step - loss: 1.1695 - accuracy: 0.7005 - val_loss: 1.0156 - val_accuracy: 0.7692\n",
      "Epoch 6/17\n",
      "2/2 [==============================] - 8s 4s/step - loss: 0.8429 - accuracy: 0.7411 - val_loss: 0.5602 - val_accuracy: 0.8205\n",
      "Epoch 7/17\n",
      "2/2 [==============================] - 8s 4s/step - loss: 0.6146 - accuracy: 0.8579 - val_loss: 0.5093 - val_accuracy: 0.8974\n",
      "Epoch 8/17\n",
      "2/2 [==============================] - 8s 4s/step - loss: 0.6453 - accuracy: 0.8680 - val_loss: 0.4860 - val_accuracy: 0.8974\n",
      "Epoch 9/17\n",
      "2/2 [==============================] - 9s 4s/step - loss: 0.4791 - accuracy: 0.8629 - val_loss: 0.6234 - val_accuracy: 0.8462\n",
      "Epoch 10/17\n",
      "2/2 [==============================] - 8s 4s/step - loss: 0.4254 - accuracy: 0.8477 - val_loss: 0.7317 - val_accuracy: 0.8205\n",
      "Epoch 11/17\n",
      "2/2 [==============================] - 10s 5s/step - loss: 0.3581 - accuracy: 0.8782 - val_loss: 0.5593 - val_accuracy: 0.8718\n",
      "Epoch 12/17\n",
      "2/2 [==============================] - 10s 5s/step - loss: 0.2796 - accuracy: 0.8934 - val_loss: 0.4558 - val_accuracy: 0.9231\n",
      "Epoch 13/17\n",
      "2/2 [==============================] - 10s 5s/step - loss: 0.2468 - accuracy: 0.9137 - val_loss: 0.4548 - val_accuracy: 0.8974\n",
      "Epoch 14/17\n",
      "2/2 [==============================] - 8s 4s/step - loss: 0.1822 - accuracy: 0.9239 - val_loss: 0.4799 - val_accuracy: 0.8974\n",
      "Epoch 15/17\n",
      "2/2 [==============================] - 8s 4s/step - loss: 0.1414 - accuracy: 0.9594 - val_loss: 0.5414 - val_accuracy: 0.8718\n",
      "Epoch 16/17\n",
      "2/2 [==============================] - 8s 4s/step - loss: 0.1396 - accuracy: 0.9543 - val_loss: 0.5338 - val_accuracy: 0.8718\n",
      "Epoch 17/17\n",
      "2/2 [==============================] - 8s 4s/step - loss: 0.1103 - accuracy: 0.9594 - val_loss: 0.4642 - val_accuracy: 0.9231\n"
     ]
    }
   ],
   "source": [
    "fit_history = model.fit_generator(\n",
    "    train_generator,\n",
    "    steps_per_epoch=steps_per_epoch_training,\n",
    "    epochs=num_epochs,\n",
    "    validation_data=validation_generator,\n",
    "    validation_steps=steps_per_epoch_validation,\n",
    "    verbose=1,\n",
    ")"
   ]
  },
  {
   "cell_type": "code",
   "execution_count": 31,
   "metadata": {
    "button": false,
    "new_sheet": false,
    "run_control": {
     "read_only": false
    }
   },
   "outputs": [],
   "source": [
    "model.save('cocoon resnet.h5')"
   ]
  },
  {
   "cell_type": "code",
   "execution_count": null,
   "metadata": {},
   "outputs": [],
   "source": []
  },
  {
   "cell_type": "code",
   "execution_count": null,
   "metadata": {},
   "outputs": [],
   "source": []
  },
  {
   "cell_type": "code",
   "execution_count": null,
   "metadata": {},
   "outputs": [],
   "source": []
  },
  {
   "cell_type": "code",
   "execution_count": null,
   "metadata": {},
   "outputs": [],
   "source": []
  },
  {
   "cell_type": "code",
   "execution_count": null,
   "metadata": {},
   "outputs": [],
   "source": []
  },
  {
   "cell_type": "code",
   "execution_count": null,
   "metadata": {},
   "outputs": [],
   "source": []
  },
  {
   "cell_type": "code",
   "execution_count": null,
   "metadata": {},
   "outputs": [],
   "source": []
  }
 ],
 "metadata": {
  "kernelspec": {
   "display_name": "Python 3",
   "language": "python",
   "name": "python3"
  },
  "language_info": {
   "codemirror_mode": {
    "name": "ipython",
    "version": 3
   },
   "file_extension": ".py",
   "mimetype": "text/x-python",
   "name": "python",
   "nbconvert_exporter": "python",
   "pygments_lexer": "ipython3",
   "version": "3.8.3"
  }
 },
 "nbformat": 4,
 "nbformat_minor": 4
}
