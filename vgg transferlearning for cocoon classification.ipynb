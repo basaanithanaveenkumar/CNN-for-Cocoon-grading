{
 "cells": [
  {
   "cell_type": "markdown",
   "metadata": {},
   "source": [
    "  "
   ]
  },
  {
   "cell_type": "markdown",
   "metadata": {
    "button": false,
    "new_sheet": false,
    "run_control": {
     "read_only": false
    }
   },
   "source": [
    "<a id=\"item42\"></a>"
   ]
  },
  {
   "cell_type": "code",
   "execution_count": 1,
   "metadata": {},
   "outputs": [
    {
     "name": "stderr",
     "output_type": "stream",
     "text": [
      "Using TensorFlow backend.\n"
     ]
    }
   ],
   "source": [
    "import os\n",
    "import numpy as np\n",
    "import matplotlib.pyplot as plt\n",
    "\n",
    "import keras\n",
    "from keras.preprocessing.image import ImageDataGenerator\n",
    "import keras\n",
    "from keras.models import Sequential\n",
    "from keras.layers import Dense\n",
    "from keras.applications.vgg16 import preprocess_input\n",
    "from keras.preprocessing.image import ImageDataGenerator\n",
    "from keras.applications import VGG16"
   ]
  },
  {
   "cell_type": "code",
   "execution_count": 2,
   "metadata": {},
   "outputs": [],
   "source": [
    "num_classes = 2\n",
    "\n",
    "image_resize = 224\n",
    "\n",
    "batch_size_training = 100\n",
    "batch_size_validation = 100"
   ]
  },
  {
   "cell_type": "code",
   "execution_count": 3,
   "metadata": {
    "scrolled": true
   },
   "outputs": [],
   "source": [
    "data_generator = ImageDataGenerator(\n",
    "    preprocessing_function=preprocess_input,\n",
    ")"
   ]
  },
  {
   "cell_type": "code",
   "execution_count": 14,
   "metadata": {},
   "outputs": [
    {
     "name": "stdout",
     "output_type": "stream",
     "text": [
      "Found 197 images belonging to 2 classes.\n"
     ]
    }
   ],
   "source": [
    "train_generator = data_generator.flow_from_directory(\n",
    "    'data - Copy/train',\n",
    "    target_size=(image_resize, image_resize),\n",
    "    batch_size=batch_size_training,\n",
    "    class_mode='categorical')"
   ]
  },
  {
   "cell_type": "code",
   "execution_count": 15,
   "metadata": {},
   "outputs": [
    {
     "name": "stdout",
     "output_type": "stream",
     "text": [
      "Found 39 images belonging to 2 classes.\n"
     ]
    }
   ],
   "source": [
    "validation_generator=data_generator.flow_from_directory(\n",
    "    'data - Copy/test',\n",
    "    target_size=(image_resize, image_resize),\n",
    "    batch_size=batch_size_training,\n",
    "    class_mode='categorical')"
   ]
  },
  {
   "cell_type": "code",
   "execution_count": 16,
   "metadata": {},
   "outputs": [],
   "source": [
    "model = Sequential()"
   ]
  },
  {
   "cell_type": "code",
   "execution_count": 17,
   "metadata": {},
   "outputs": [
    {
     "name": "stdout",
     "output_type": "stream",
     "text": [
      "Downloading data from https://storage.googleapis.com/tensorflow/keras-applications/vgg16/vgg16_weights_tf_dim_ordering_tf_kernels_notop.h5\n",
      "58892288/58889256 [==============================] - 1188s 20us/step\n"
     ]
    }
   ],
   "source": [
    "model.add(VGG16(\n",
    "    include_top=False,\n",
    "    pooling='avg',\n",
    "    weights='imagenet',\n",
    "    ))"
   ]
  },
  {
   "cell_type": "code",
   "execution_count": 18,
   "metadata": {},
   "outputs": [],
   "source": [
    "model.add(Dense(num_classes, activation='softmax'))"
   ]
  },
  {
   "cell_type": "code",
   "execution_count": 19,
   "metadata": {},
   "outputs": [
    {
     "data": {
      "text/plain": [
       "[<tensorflow.python.keras.engine.training.Model at 0x1f97eb5d848>,\n",
       " <tensorflow.python.keras.layers.core.Dense at 0x1f906038948>]"
      ]
     },
     "execution_count": 19,
     "metadata": {},
     "output_type": "execute_result"
    }
   ],
   "source": [
    "model.layers"
   ]
  },
  {
   "cell_type": "code",
   "execution_count": 20,
   "metadata": {},
   "outputs": [
    {
     "data": {
      "text/plain": [
       "[<tensorflow.python.keras.engine.input_layer.InputLayer at 0x1f97e9eaf08>,\n",
       " <tensorflow.python.keras.layers.convolutional.Conv2D at 0x1f97e799f88>,\n",
       " <tensorflow.python.keras.layers.convolutional.Conv2D at 0x1f97ea185c8>,\n",
       " <tensorflow.python.keras.layers.pooling.MaxPooling2D at 0x1f97ea87e48>,\n",
       " <tensorflow.python.keras.layers.convolutional.Conv2D at 0x1f97ea87dc8>,\n",
       " <tensorflow.python.keras.layers.convolutional.Conv2D at 0x1f97ea95ac8>,\n",
       " <tensorflow.python.keras.layers.pooling.MaxPooling2D at 0x1f97ea98e08>,\n",
       " <tensorflow.python.keras.layers.convolutional.Conv2D at 0x1f97ea9d848>,\n",
       " <tensorflow.python.keras.layers.convolutional.Conv2D at 0x1f97eaaa108>,\n",
       " <tensorflow.python.keras.layers.convolutional.Conv2D at 0x1f97eb212c8>,\n",
       " <tensorflow.python.keras.layers.pooling.MaxPooling2D at 0x1f97eb26a08>,\n",
       " <tensorflow.python.keras.layers.convolutional.Conv2D at 0x1f97eb28108>,\n",
       " <tensorflow.python.keras.layers.convolutional.Conv2D at 0x1f97eb2f088>,\n",
       " <tensorflow.python.keras.layers.convolutional.Conv2D at 0x1f97eb38a88>,\n",
       " <tensorflow.python.keras.layers.pooling.MaxPooling2D at 0x1f97eb3bdc8>,\n",
       " <tensorflow.python.keras.layers.convolutional.Conv2D at 0x1f97eb40808>,\n",
       " <tensorflow.python.keras.layers.convolutional.Conv2D at 0x1f97eb49048>,\n",
       " <tensorflow.python.keras.layers.convolutional.Conv2D at 0x1f97eb51248>,\n",
       " <tensorflow.python.keras.layers.pooling.MaxPooling2D at 0x1f97eb58088>,\n",
       " <tensorflow.python.keras.layers.pooling.GlobalAveragePooling2D at 0x1f97eb56a48>]"
      ]
     },
     "execution_count": 20,
     "metadata": {},
     "output_type": "execute_result"
    }
   ],
   "source": [
    "model.layers[0].layers"
   ]
  },
  {
   "cell_type": "code",
   "execution_count": 21,
   "metadata": {},
   "outputs": [],
   "source": [
    "model.layers[0].trainable = False"
   ]
  },
  {
   "cell_type": "code",
   "execution_count": 22,
   "metadata": {},
   "outputs": [
    {
     "name": "stdout",
     "output_type": "stream",
     "text": [
      "Model: \"sequential\"\n",
      "_________________________________________________________________\n",
      "Layer (type)                 Output Shape              Param #   \n",
      "=================================================================\n",
      "vgg16 (Model)                (None, 512)               14714688  \n",
      "_________________________________________________________________\n",
      "dense (Dense)                (None, 2)                 1026      \n",
      "=================================================================\n",
      "Total params: 14,715,714\n",
      "Trainable params: 1,026\n",
      "Non-trainable params: 14,714,688\n",
      "_________________________________________________________________\n"
     ]
    }
   ],
   "source": [
    "model.summary()"
   ]
  },
  {
   "cell_type": "code",
   "execution_count": 23,
   "metadata": {},
   "outputs": [],
   "source": [
    "model.compile(optimizer='adam', loss='categorical_crossentropy', metrics=['accuracy'])"
   ]
  },
  {
   "cell_type": "code",
   "execution_count": 30,
   "metadata": {},
   "outputs": [],
   "source": [
    "steps_per_epoch_training = len(train_generator)\n",
    "steps_per_epoch_validation = len(validation_generator)\n",
    "num_epochs = 34"
   ]
  },
  {
   "cell_type": "code",
   "execution_count": 31,
   "metadata": {},
   "outputs": [
    {
     "name": "stdout",
     "output_type": "stream",
     "text": [
      "Epoch 1/34\n",
      "2/2 [==============================] - 20s 10s/step - loss: 0.3195 - accuracy: 0.8680 - val_loss: 0.7251 - val_accuracy: 0.8462\n",
      "Epoch 2/34\n",
      "2/2 [==============================] - 17s 8s/step - loss: 0.3022 - accuracy: 0.8680 - val_loss: 0.7114 - val_accuracy: 0.8462\n",
      "Epoch 3/34\n",
      "2/2 [==============================] - 18s 9s/step - loss: 0.2860 - accuracy: 0.8680 - val_loss: 0.7051 - val_accuracy: 0.8462\n",
      "Epoch 4/34\n",
      "2/2 [==============================] - 17s 8s/step - loss: 0.2714 - accuracy: 0.8731 - val_loss: 0.6934 - val_accuracy: 0.8462\n",
      "Epoch 5/34\n",
      "2/2 [==============================] - 16s 8s/step - loss: 0.2566 - accuracy: 0.8782 - val_loss: 0.6817 - val_accuracy: 0.8462\n",
      "Epoch 6/34\n",
      "2/2 [==============================] - 18s 9s/step - loss: 0.2411 - accuracy: 0.8883 - val_loss: 0.6674 - val_accuracy: 0.8462\n",
      "Epoch 7/34\n",
      "2/2 [==============================] - 17s 8s/step - loss: 0.2289 - accuracy: 0.8934 - val_loss: 0.6545 - val_accuracy: 0.8462\n",
      "Epoch 8/34\n",
      "2/2 [==============================] - 18s 9s/step - loss: 0.2191 - accuracy: 0.8934 - val_loss: 0.6445 - val_accuracy: 0.8462\n",
      "Epoch 9/34\n",
      "2/2 [==============================] - 18s 9s/step - loss: 0.2087 - accuracy: 0.9036 - val_loss: 0.6402 - val_accuracy: 0.8462\n",
      "Epoch 10/34\n",
      "2/2 [==============================] - 18s 9s/step - loss: 0.1979 - accuracy: 0.9086 - val_loss: 0.6328 - val_accuracy: 0.8462\n",
      "Epoch 11/34\n",
      "2/2 [==============================] - 18s 9s/step - loss: 0.1922 - accuracy: 0.8985 - val_loss: 0.6298 - val_accuracy: 0.8462\n",
      "Epoch 12/34\n",
      "2/2 [==============================] - 19s 9s/step - loss: 0.1815 - accuracy: 0.9036 - val_loss: 0.6184 - val_accuracy: 0.8462\n",
      "Epoch 13/34\n",
      "2/2 [==============================] - 19s 9s/step - loss: 0.1727 - accuracy: 0.9137 - val_loss: 0.6048 - val_accuracy: 0.8462\n",
      "Epoch 14/34\n",
      "2/2 [==============================] - 18s 9s/step - loss: 0.1658 - accuracy: 0.9188 - val_loss: 0.5963 - val_accuracy: 0.8462\n",
      "Epoch 15/34\n",
      "2/2 [==============================] - 18s 9s/step - loss: 0.1578 - accuracy: 0.9289 - val_loss: 0.5859 - val_accuracy: 0.8462\n",
      "Epoch 16/34\n",
      "2/2 [==============================] - 17s 9s/step - loss: 0.1523 - accuracy: 0.9340 - val_loss: 0.5813 - val_accuracy: 0.8462\n",
      "Epoch 17/34\n",
      "2/2 [==============================] - 16s 8s/step - loss: 0.1458 - accuracy: 0.9391 - val_loss: 0.5760 - val_accuracy: 0.8462\n",
      "Epoch 18/34\n",
      "2/2 [==============================] - 17s 8s/step - loss: 0.1403 - accuracy: 0.9442 - val_loss: 0.5712 - val_accuracy: 0.8462\n",
      "Epoch 19/34\n",
      "2/2 [==============================] - 17s 9s/step - loss: 0.1352 - accuracy: 0.9543 - val_loss: 0.5671 - val_accuracy: 0.8462\n",
      "Epoch 20/34\n",
      "2/2 [==============================] - 17s 9s/step - loss: 0.1304 - accuracy: 0.9543 - val_loss: 0.5618 - val_accuracy: 0.8462\n",
      "Epoch 21/34\n",
      "2/2 [==============================] - 17s 9s/step - loss: 0.1265 - accuracy: 0.9543 - val_loss: 0.5551 - val_accuracy: 0.8462\n",
      "Epoch 22/34\n",
      "2/2 [==============================] - 18s 9s/step - loss: 0.1224 - accuracy: 0.9594 - val_loss: 0.5474 - val_accuracy: 0.8462\n",
      "Epoch 23/34\n",
      "2/2 [==============================] - 18s 9s/step - loss: 0.1181 - accuracy: 0.9645 - val_loss: 0.5424 - val_accuracy: 0.8462\n",
      "Epoch 24/34\n",
      "2/2 [==============================] - 19s 9s/step - loss: 0.1147 - accuracy: 0.9645 - val_loss: 0.5374 - val_accuracy: 0.8462\n",
      "Epoch 25/34\n",
      "2/2 [==============================] - 17s 9s/step - loss: 0.1113 - accuracy: 0.9645 - val_loss: 0.5336 - val_accuracy: 0.8462\n",
      "Epoch 26/34\n",
      "2/2 [==============================] - 18s 9s/step - loss: 0.1081 - accuracy: 0.9645 - val_loss: 0.5346 - val_accuracy: 0.8462\n",
      "Epoch 27/34\n",
      "2/2 [==============================] - 18s 9s/step - loss: 0.1046 - accuracy: 0.9695 - val_loss: 0.5310 - val_accuracy: 0.8462\n",
      "Epoch 28/34\n",
      "2/2 [==============================] - 18s 9s/step - loss: 0.1018 - accuracy: 0.9695 - val_loss: 0.5255 - val_accuracy: 0.8462\n",
      "Epoch 29/34\n",
      "2/2 [==============================] - 18s 9s/step - loss: 0.0985 - accuracy: 0.9695 - val_loss: 0.5223 - val_accuracy: 0.8462\n",
      "Epoch 30/34\n",
      "2/2 [==============================] - 16s 8s/step - loss: 0.0959 - accuracy: 0.9695 - val_loss: 0.5172 - val_accuracy: 0.8462\n",
      "Epoch 31/34\n",
      "2/2 [==============================] - 18s 9s/step - loss: 0.0935 - accuracy: 0.9695 - val_loss: 0.5120 - val_accuracy: 0.8462\n",
      "Epoch 32/34\n",
      "2/2 [==============================] - 17s 9s/step - loss: 0.0909 - accuracy: 0.9695 - val_loss: 0.5097 - val_accuracy: 0.8462\n",
      "Epoch 33/34\n",
      "2/2 [==============================] - 17s 8s/step - loss: 0.0893 - accuracy: 0.9695 - val_loss: 0.5048 - val_accuracy: 0.8462\n",
      "Epoch 34/34\n",
      "2/2 [==============================] - 18s 9s/step - loss: 0.0863 - accuracy: 0.9746 - val_loss: 0.5037 - val_accuracy: 0.8462\n"
     ]
    }
   ],
   "source": [
    "fit_history = model.fit_generator(\n",
    "    train_generator,\n",
    "    steps_per_epoch=steps_per_epoch_training,\n",
    "    epochs=num_epochs,\n",
    "    validation_data=validation_generator,\n",
    "    validation_steps=steps_per_epoch_validation,\n",
    "    verbose=1,\n",
    ")"
   ]
  },
  {
   "cell_type": "code",
   "execution_count": 32,
   "metadata": {},
   "outputs": [],
   "source": [
    "model.save('vgg1.h5')"
   ]
  },
  {
   "cell_type": "markdown",
   "metadata": {},
   "source": [
    "   "
   ]
  },
  {
   "cell_type": "markdown",
   "metadata": {},
   "source": [
    "<a id=\"item43\"></a>"
   ]
  },
  {
   "cell_type": "markdown",
   "metadata": {},
   "source": [
    "## comparision of two models"
   ]
  },
  {
   "cell_type": "markdown",
   "metadata": {},
   "source": [
    "Use the following cells to evaluate your models."
   ]
  },
  {
   "cell_type": "code",
   "execution_count": 33,
   "metadata": {},
   "outputs": [],
   "source": [
    "from keras.models import load_model\n",
    "modelres = load_model('cocoon resnet_model.h5')"
   ]
  },
  {
   "cell_type": "code",
   "execution_count": 34,
   "metadata": {},
   "outputs": [
    {
     "name": "stdout",
     "output_type": "stream",
     "text": [
      "Found 39 images belonging to 2 classes.\n"
     ]
    }
   ],
   "source": [
    "data_generator = ImageDataGenerator(\n",
    "    preprocessing_function=preprocess_input,\n",
    ")\n",
    "\n",
    "validation_generator = data_generator.flow_from_directory(\n",
    "    'data - Copy/test',\n",
    "    target_size=(image_resize, image_resize),\n",
    "    shuffle=False)"
   ]
  },
  {
   "cell_type": "code",
   "execution_count": 35,
   "metadata": {},
   "outputs": [
    {
     "name": "stdout",
     "output_type": "stream",
     "text": [
      "WARNING:tensorflow:From <ipython-input-35-c14480361e61>:1: Model.evaluate_generator (from tensorflow.python.keras.engine.training) is deprecated and will be removed in a future version.\n",
      "Instructions for updating:\n",
      "Please use Model.evaluate, which supports generators.\n"
     ]
    },
    {
     "data": {
      "text/plain": [
       "[0.22697128355503082, 0.8974359035491943]"
      ]
     },
     "execution_count": 35,
     "metadata": {},
     "output_type": "execute_result"
    }
   ],
   "source": [
    "modelres.evaluate_generator(validation_generator)"
   ]
  },
  {
   "cell_type": "code",
   "execution_count": 36,
   "metadata": {},
   "outputs": [
    {
     "data": {
      "text/plain": [
       "[0.5037145614624023, 0.8461538553237915]"
      ]
     },
     "execution_count": 36,
     "metadata": {},
     "output_type": "execute_result"
    }
   ],
   "source": [
    "model.evaluate_generator(validation_generator)"
   ]
  },
  {
   "cell_type": "markdown",
   "metadata": {},
   "source": [
    "   "
   ]
  },
  {
   "cell_type": "markdown",
   "metadata": {},
   "source": [
    "<a id=\"item44\"></a>"
   ]
  },
  {
   "cell_type": "code",
   "execution_count": 37,
   "metadata": {},
   "outputs": [
    {
     "name": "stdout",
     "output_type": "stream",
     "text": [
      "WARNING:tensorflow:From <ipython-input-37-033347e54584>:1: Model.predict_generator (from tensorflow.python.keras.engine.training) is deprecated and will be removed in a future version.\n",
      "Instructions for updating:\n",
      "Please use Model.predict, which supports generators.\n"
     ]
    }
   ],
   "source": [
    "predict_modelresnet = modelres.predict_generator(validation_generator)"
   ]
  },
  {
   "cell_type": "code",
   "execution_count": 38,
   "metadata": {},
   "outputs": [],
   "source": [
    "predict_modelvgg = model.predict_generator(validation_generator)"
   ]
  },
  {
   "cell_type": "code",
   "execution_count": 41,
   "metadata": {},
   "outputs": [
    {
     "data": {
      "text/plain": [
       "array([1, 0, 0, 0, 0], dtype=int64)"
      ]
     },
     "execution_count": 41,
     "metadata": {},
     "output_type": "execute_result"
    }
   ],
   "source": [
    "predict_modelvgg[:5]\n",
    "y_classes1 = predict_modelvgg.argmax(axis=-1)\n",
    "y_classes1[:5]"
   ]
  },
  {
   "cell_type": "code",
   "execution_count": 43,
   "metadata": {},
   "outputs": [
    {
     "data": {
      "text/plain": [
       "array([1, 0, 0, 0, 0], dtype=int64)"
      ]
     },
     "execution_count": 43,
     "metadata": {},
     "output_type": "execute_result"
    }
   ],
   "source": [
    "predict_modelresnet[:5]\n",
    "y_classes2 = predict_modelresnet.argmax(axis=-1)\n",
    "y_classes2[:5]"
   ]
  },
  {
   "cell_type": "markdown",
   "metadata": {},
   "source": [
    "  "
   ]
  },
  {
   "cell_type": "code",
   "execution_count": 44,
   "metadata": {},
   "outputs": [
    {
     "ename": "ModuleNotFoundError",
     "evalue": "No module named 'cv2'",
     "output_type": "error",
     "traceback": [
      "\u001b[1;31m---------------------------------------------------------------------------\u001b[0m",
      "\u001b[1;31mModuleNotFoundError\u001b[0m                       Traceback (most recent call last)",
      "\u001b[1;32m<ipython-input-44-c8ec22b3e787>\u001b[0m in \u001b[0;36m<module>\u001b[1;34m\u001b[0m\n\u001b[1;32m----> 1\u001b[1;33m \u001b[1;32mimport\u001b[0m \u001b[0mcv2\u001b[0m\u001b[1;33m\u001b[0m\u001b[1;33m\u001b[0m\u001b[0m\n\u001b[0m",
      "\u001b[1;31mModuleNotFoundError\u001b[0m: No module named 'cv2'"
     ]
    }
   ],
   "source": [
    "import cv2"
   ]
  },
  {
   "cell_type": "code",
   "execution_count": null,
   "metadata": {},
   "outputs": [],
   "source": []
  },
  {
   "cell_type": "code",
   "execution_count": null,
   "metadata": {},
   "outputs": [],
   "source": []
  },
  {
   "cell_type": "code",
   "execution_count": null,
   "metadata": {},
   "outputs": [],
   "source": []
  },
  {
   "cell_type": "code",
   "execution_count": null,
   "metadata": {},
   "outputs": [],
   "source": []
  },
  {
   "cell_type": "code",
   "execution_count": null,
   "metadata": {},
   "outputs": [],
   "source": []
  },
  {
   "cell_type": "code",
   "execution_count": null,
   "metadata": {},
   "outputs": [],
   "source": []
  },
  {
   "cell_type": "code",
   "execution_count": null,
   "metadata": {},
   "outputs": [],
   "source": []
  },
  {
   "cell_type": "code",
   "execution_count": null,
   "metadata": {},
   "outputs": [],
   "source": []
  },
  {
   "cell_type": "code",
   "execution_count": null,
   "metadata": {},
   "outputs": [],
   "source": []
  },
  {
   "cell_type": "code",
   "execution_count": null,
   "metadata": {},
   "outputs": [],
   "source": []
  },
  {
   "cell_type": "code",
   "execution_count": null,
   "metadata": {},
   "outputs": [],
   "source": []
  },
  {
   "cell_type": "code",
   "execution_count": null,
   "metadata": {},
   "outputs": [],
   "source": []
  },
  {
   "cell_type": "code",
   "execution_count": null,
   "metadata": {},
   "outputs": [],
   "source": []
  },
  {
   "cell_type": "code",
   "execution_count": null,
   "metadata": {},
   "outputs": [],
   "source": []
  },
  {
   "cell_type": "code",
   "execution_count": null,
   "metadata": {},
   "outputs": [],
   "source": []
  },
  {
   "cell_type": "code",
   "execution_count": null,
   "metadata": {},
   "outputs": [],
   "source": []
  }
 ],
 "metadata": {
  "kernelspec": {
   "display_name": "Python 3",
   "language": "python",
   "name": "python3"
  },
  "language_info": {
   "codemirror_mode": {
    "name": "ipython",
    "version": 3
   },
   "file_extension": ".py",
   "mimetype": "text/x-python",
   "name": "python",
   "nbconvert_exporter": "python",
   "pygments_lexer": "ipython3",
   "version": "3.7.4"
  }
 },
 "nbformat": 4,
 "nbformat_minor": 4
}
