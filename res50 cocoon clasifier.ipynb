{
 "cells": [
  {
   "cell_type": "code",
   "execution_count": 1,
   "metadata": {
    "button": false,
    "new_sheet": false,
    "run_control": {
     "read_only": false
    }
   },
   "outputs": [
    {
     "name": "stderr",
     "output_type": "stream",
     "text": [
      "Using TensorFlow backend.\n"
     ]
    }
   ],
   "source": [
    "from keras.preprocessing.image import ImageDataGenerator"
   ]
  },
  {
   "cell_type": "code",
   "execution_count": 2,
   "metadata": {
    "button": false,
    "new_sheet": false,
    "run_control": {
     "read_only": false
    }
   },
   "outputs": [],
   "source": [
    "import keras\n",
    "from keras.models import Sequential\n",
    "from keras.layers import Dense"
   ]
  },
  {
   "cell_type": "code",
   "execution_count": 3,
   "metadata": {
    "button": false,
    "new_sheet": false,
    "run_control": {
     "read_only": false
    }
   },
   "outputs": [],
   "source": [
    "from keras.applications import ResNet50\n",
    "from keras.applications.resnet50 import preprocess_input"
   ]
  },
  {
   "cell_type": "markdown",
   "metadata": {
    "button": false,
    "new_sheet": false,
    "run_control": {
     "read_only": false
    }
   },
   "source": [
    "<a id='item32'></a>"
   ]
  },
  {
   "cell_type": "code",
   "execution_count": 4,
   "metadata": {
    "button": false,
    "new_sheet": false,
    "run_control": {
     "read_only": false
    }
   },
   "outputs": [],
   "source": [
    "num_classes = 2\n",
    "\n",
    "image_resize = 224\n",
    "\n",
    "batch_size_training = 100\n",
    "batch_size_validation = 100"
   ]
  },
  {
   "cell_type": "markdown",
   "metadata": {
    "button": false,
    "new_sheet": false,
    "run_control": {
     "read_only": false
    }
   },
   "source": [
    "<a id='item34'></a>"
   ]
  },
  {
   "cell_type": "markdown",
   "metadata": {
    "button": false,
    "new_sheet": false,
    "run_control": {
     "read_only": false
    }
   },
   "source": [
    "## Construct ImageDataGenerator Instances"
   ]
  },
  {
   "cell_type": "code",
   "execution_count": 5,
   "metadata": {
    "button": false,
    "new_sheet": false,
    "run_control": {
     "read_only": false
    }
   },
   "outputs": [],
   "source": [
    "data_generator = ImageDataGenerator(\n",
    "    preprocessing_function=preprocess_input,\n",
    ")"
   ]
  },
  {
   "cell_type": "code",
   "execution_count": 6,
   "metadata": {
    "button": false,
    "new_sheet": false,
    "run_control": {
     "read_only": false
    }
   },
   "outputs": [
    {
     "name": "stdout",
     "output_type": "stream",
     "text": [
      "Found 197 images belonging to 2 classes.\n"
     ]
    }
   ],
   "source": [
    "train_generator = data_generator.flow_from_directory(\n",
    "    'data - Copy/train',\n",
    "    target_size=(image_resize, image_resize),\n",
    "    batch_size=batch_size_training,\n",
    "    class_mode='categorical')"
   ]
  },
  {
   "cell_type": "code",
   "execution_count": 7,
   "metadata": {
    "button": false,
    "new_sheet": false,
    "run_control": {
     "read_only": false
    }
   },
   "outputs": [
    {
     "name": "stdout",
     "output_type": "stream",
     "text": [
      "Found 39 images belonging to 2 classes.\n"
     ]
    }
   ],
   "source": [
    "## Type your answer here\n",
    "validation_generator = data_generator.flow_from_directory(\n",
    "    'data - Copy/test',\n",
    "    target_size=(image_resize, image_resize),\n",
    "    batch_size=batch_size_validation,\n",
    "    class_mode='categorical')\n",
    "\n",
    "\n"
   ]
  },
  {
   "cell_type": "markdown",
   "metadata": {
    "button": false,
    "new_sheet": false,
    "run_control": {
     "read_only": false
    }
   },
   "source": [
    "<a id='item35'></a>"
   ]
  },
  {
   "cell_type": "markdown",
   "metadata": {
    "button": false,
    "new_sheet": false,
    "run_control": {
     "read_only": false
    }
   },
   "source": [
    "## Build, Compile and Fit Model"
   ]
  },
  {
   "cell_type": "code",
   "execution_count": 8,
   "metadata": {
    "button": false,
    "new_sheet": false,
    "run_control": {
     "read_only": false
    }
   },
   "outputs": [],
   "source": [
    "model = Sequential()"
   ]
  },
  {
   "cell_type": "code",
   "execution_count": 9,
   "metadata": {
    "button": false,
    "new_sheet": false,
    "run_control": {
     "read_only": false
    }
   },
   "outputs": [
    {
     "name": "stdout",
     "output_type": "stream",
     "text": [
      "A local file was found, but it seems to be incomplete or outdated because the auto file hash does not match the original value of 4d473c1dd8becc155b73f8504c6f6626 so we will re-download the data.\n",
      "Downloading data from https://storage.googleapis.com/tensorflow/keras-applications/resnet/resnet50_weights_tf_dim_ordering_tf_kernels_notop.h5\n",
      "94773248/94765736 [==============================] - 1875s 20us/step\n"
     ]
    }
   ],
   "source": [
    "model.add(ResNet50(\n",
    "    include_top=False,\n",
    "    pooling='avg',\n",
    "    weights='imagenet',\n",
    "    ))"
   ]
  },
  {
   "cell_type": "code",
   "execution_count": 10,
   "metadata": {
    "button": false,
    "new_sheet": false,
    "run_control": {
     "read_only": false
    }
   },
   "outputs": [],
   "source": [
    "model.add(Dense(num_classes, activation='softmax'))"
   ]
  },
  {
   "cell_type": "code",
   "execution_count": 11,
   "metadata": {
    "button": false,
    "new_sheet": false,
    "run_control": {
     "read_only": false
    }
   },
   "outputs": [
    {
     "data": {
      "text/plain": [
       "[<tensorflow.python.keras.engine.training.Model at 0x23d591263c8>,\n",
       " <tensorflow.python.keras.layers.core.Dense at 0x23d56d77488>]"
      ]
     },
     "execution_count": 11,
     "metadata": {},
     "output_type": "execute_result"
    }
   ],
   "source": [
    "model.layers"
   ]
  },
  {
   "cell_type": "code",
   "execution_count": 12,
   "metadata": {
    "button": false,
    "new_sheet": false,
    "run_control": {
     "read_only": false
    },
    "scrolled": true
   },
   "outputs": [
    {
     "data": {
      "text/plain": [
       "[<tensorflow.python.keras.engine.input_layer.InputLayer at 0x23d4ef363c8>,\n",
       " <tensorflow.python.keras.layers.convolutional.ZeroPadding2D at 0x23d4ef36dc8>,\n",
       " <tensorflow.python.keras.layers.convolutional.Conv2D at 0x23d4ef44d48>,\n",
       " <tensorflow.python.keras.layers.normalization_v2.BatchNormalization at 0x23d4ef76288>,\n",
       " <tensorflow.python.keras.layers.core.Activation at 0x23d4efa2c08>,\n",
       " <tensorflow.python.keras.layers.convolutional.ZeroPadding2D at 0x23d4efa2808>,\n",
       " <tensorflow.python.keras.layers.pooling.MaxPooling2D at 0x23d4f06b0c8>,\n",
       " <tensorflow.python.keras.layers.convolutional.Conv2D at 0x23d4f07abc8>,\n",
       " <tensorflow.python.keras.layers.normalization_v2.BatchNormalization at 0x23d4f0adb48>,\n",
       " <tensorflow.python.keras.layers.core.Activation at 0x23d4f0b2f88>,\n",
       " <tensorflow.python.keras.layers.convolutional.Conv2D at 0x23d4f0aa808>,\n",
       " <tensorflow.python.keras.layers.normalization_v2.BatchNormalization at 0x23d4f0e0408>,\n",
       " <tensorflow.python.keras.layers.core.Activation at 0x23d4f0e03c8>,\n",
       " <tensorflow.python.keras.layers.convolutional.Conv2D at 0x23d4f074408>,\n",
       " <tensorflow.python.keras.layers.convolutional.Conv2D at 0x23d4f0e4f88>,\n",
       " <tensorflow.python.keras.layers.normalization_v2.BatchNormalization at 0x23d4f07fa48>,\n",
       " <tensorflow.python.keras.layers.normalization_v2.BatchNormalization at 0x23d55241cc8>,\n",
       " <tensorflow.python.keras.layers.merge.Add at 0x23d55241248>,\n",
       " <tensorflow.python.keras.layers.core.Activation at 0x23d55248888>,\n",
       " <tensorflow.python.keras.layers.convolutional.Conv2D at 0x23d5526f9c8>,\n",
       " <tensorflow.python.keras.layers.normalization_v2.BatchNormalization at 0x23d55272fc8>,\n",
       " <tensorflow.python.keras.layers.core.Activation at 0x23d4ec15308>,\n",
       " <tensorflow.python.keras.layers.convolutional.Conv2D at 0x23d4ec15548>,\n",
       " <tensorflow.python.keras.layers.normalization_v2.BatchNormalization at 0x23d55293388>,\n",
       " <tensorflow.python.keras.layers.core.Activation at 0x23d552973c8>,\n",
       " <tensorflow.python.keras.layers.convolutional.Conv2D at 0x23d5529a3c8>,\n",
       " <tensorflow.python.keras.layers.normalization_v2.BatchNormalization at 0x23d552c6548>,\n",
       " <tensorflow.python.keras.layers.merge.Add at 0x23d552c6508>,\n",
       " <tensorflow.python.keras.layers.core.Activation at 0x23d552cd0c8>,\n",
       " <tensorflow.python.keras.layers.convolutional.Conv2D at 0x23d55622088>,\n",
       " <tensorflow.python.keras.layers.normalization_v2.BatchNormalization at 0x23d55629a88>,\n",
       " <tensorflow.python.keras.layers.core.Activation at 0x23d5562d148>,\n",
       " <tensorflow.python.keras.layers.convolutional.Conv2D at 0x23d55632688>,\n",
       " <tensorflow.python.keras.layers.normalization_v2.BatchNormalization at 0x23d55659fc8>,\n",
       " <tensorflow.python.keras.layers.core.Activation at 0x23d5565c308>,\n",
       " <tensorflow.python.keras.layers.convolutional.Conv2D at 0x23d55661ec8>,\n",
       " <tensorflow.python.keras.layers.normalization_v2.BatchNormalization at 0x23d5568d448>,\n",
       " <tensorflow.python.keras.layers.merge.Add at 0x23d5568dc08>,\n",
       " <tensorflow.python.keras.layers.core.Activation at 0x23d56665748>,\n",
       " <tensorflow.python.keras.layers.convolutional.Conv2D at 0x23d56694208>,\n",
       " <tensorflow.python.keras.layers.normalization_v2.BatchNormalization at 0x23d566c3a08>,\n",
       " <tensorflow.python.keras.layers.core.Activation at 0x23d566beac8>,\n",
       " <tensorflow.python.keras.layers.convolutional.Conv2D at 0x23d566c8908>,\n",
       " <tensorflow.python.keras.layers.normalization_v2.BatchNormalization at 0x23d566f3288>,\n",
       " <tensorflow.python.keras.layers.core.Activation at 0x23d4ef76888>,\n",
       " <tensorflow.python.keras.layers.convolutional.Conv2D at 0x23d5668c608>,\n",
       " <tensorflow.python.keras.layers.convolutional.Conv2D at 0x23d566fb288>,\n",
       " <tensorflow.python.keras.layers.normalization_v2.BatchNormalization at 0x23d5668ff48>,\n",
       " <tensorflow.python.keras.layers.normalization_v2.BatchNormalization at 0x23d567258c8>,\n",
       " <tensorflow.python.keras.layers.merge.Add at 0x23d56721348>,\n",
       " <tensorflow.python.keras.layers.core.Activation at 0x23d56750e08>,\n",
       " <tensorflow.python.keras.layers.convolutional.Conv2D at 0x23d56755f88>,\n",
       " <tensorflow.python.keras.layers.normalization_v2.BatchNormalization at 0x23d56757d08>,\n",
       " <tensorflow.python.keras.layers.core.Activation at 0x23d5675c748>,\n",
       " <tensorflow.python.keras.layers.convolutional.Conv2D at 0x23d567624c8>,\n",
       " <tensorflow.python.keras.layers.normalization_v2.BatchNormalization at 0x23d5678bf08>,\n",
       " <tensorflow.python.keras.layers.core.Activation at 0x23d567900c8>,\n",
       " <tensorflow.python.keras.layers.convolutional.Conv2D at 0x23d56795988>,\n",
       " <tensorflow.python.keras.layers.normalization_v2.BatchNormalization at 0x23d567bf308>,\n",
       " <tensorflow.python.keras.layers.merge.Add at 0x23d567bfac8>,\n",
       " <tensorflow.python.keras.layers.core.Activation at 0x23d567c64c8>,\n",
       " <tensorflow.python.keras.layers.convolutional.Conv2D at 0x23d567ee248>,\n",
       " <tensorflow.python.keras.layers.normalization_v2.BatchNormalization at 0x23d567f0dc8>,\n",
       " <tensorflow.python.keras.layers.core.Activation at 0x23d567f4088>,\n",
       " <tensorflow.python.keras.layers.convolutional.Conv2D at 0x23d567fbc88>,\n",
       " <tensorflow.python.keras.layers.normalization_v2.BatchNormalization at 0x23d56826a08>,\n",
       " <tensorflow.python.keras.layers.core.Activation at 0x23d56826848>,\n",
       " <tensorflow.python.keras.layers.convolutional.Conv2D at 0x23d5682d048>,\n",
       " <tensorflow.python.keras.layers.normalization_v2.BatchNormalization at 0x23d56856708>,\n",
       " <tensorflow.python.keras.layers.merge.Add at 0x23d568582c8>,\n",
       " <tensorflow.python.keras.layers.core.Activation at 0x23d56884e08>,\n",
       " <tensorflow.python.keras.layers.convolutional.Conv2D at 0x23d56887f88>,\n",
       " <tensorflow.python.keras.layers.normalization_v2.BatchNormalization at 0x23d5688c8c8>,\n",
       " <tensorflow.python.keras.layers.core.Activation at 0x23d5688c788>,\n",
       " <tensorflow.python.keras.layers.convolutional.Conv2D at 0x23d56895508>,\n",
       " <tensorflow.python.keras.layers.normalization_v2.BatchNormalization at 0x23d568bef48>,\n",
       " <tensorflow.python.keras.layers.core.Activation at 0x23d568c1cc8>,\n",
       " <tensorflow.python.keras.layers.convolutional.Conv2D at 0x23d568c59c8>,\n",
       " <tensorflow.python.keras.layers.normalization_v2.BatchNormalization at 0x23d568f1348>,\n",
       " <tensorflow.python.keras.layers.merge.Add at 0x23d568f1b08>,\n",
       " <tensorflow.python.keras.layers.core.Activation at 0x23d568f9508>,\n",
       " <tensorflow.python.keras.layers.convolutional.Conv2D at 0x23d569260c8>,\n",
       " <tensorflow.python.keras.layers.normalization_v2.BatchNormalization at 0x23d56955fc8>,\n",
       " <tensorflow.python.keras.layers.core.Activation at 0x23d56951c08>,\n",
       " <tensorflow.python.keras.layers.convolutional.Conv2D at 0x23d5695f7c8>,\n",
       " <tensorflow.python.keras.layers.normalization_v2.BatchNormalization at 0x23d5698a908>,\n",
       " <tensorflow.python.keras.layers.core.Activation at 0x23d5698a7c8>,\n",
       " <tensorflow.python.keras.layers.convolutional.Conv2D at 0x23d5691b2c8>,\n",
       " <tensorflow.python.keras.layers.convolutional.Conv2D at 0x23d56990508>,\n",
       " <tensorflow.python.keras.layers.normalization_v2.BatchNormalization at 0x23d56925e08>,\n",
       " <tensorflow.python.keras.layers.normalization_v2.BatchNormalization at 0x23d569b9f88>,\n",
       " <tensorflow.python.keras.layers.merge.Add at 0x23d569bc248>,\n",
       " <tensorflow.python.keras.layers.core.Activation at 0x23d569e6d88>,\n",
       " <tensorflow.python.keras.layers.convolutional.Conv2D at 0x23d569eaf88>,\n",
       " <tensorflow.python.keras.layers.normalization_v2.BatchNormalization at 0x23d569f1848>,\n",
       " <tensorflow.python.keras.layers.core.Activation at 0x23d569f1708>,\n",
       " <tensorflow.python.keras.layers.convolutional.Conv2D at 0x23d569f9488>,\n",
       " <tensorflow.python.keras.layers.normalization_v2.BatchNormalization at 0x23d56a21ec8>,\n",
       " <tensorflow.python.keras.layers.core.Activation at 0x23d56a24088>,\n",
       " <tensorflow.python.keras.layers.convolutional.Conv2D at 0x23d56a27988>,\n",
       " <tensorflow.python.keras.layers.normalization_v2.BatchNormalization at 0x23d56a54308>,\n",
       " <tensorflow.python.keras.layers.merge.Add at 0x23d56a54ac8>,\n",
       " <tensorflow.python.keras.layers.core.Activation at 0x23d56a5e4c8>,\n",
       " <tensorflow.python.keras.layers.convolutional.Conv2D at 0x23d56a842c8>,\n",
       " <tensorflow.python.keras.layers.normalization_v2.BatchNormalization at 0x23d56a88e08>,\n",
       " <tensorflow.python.keras.layers.core.Activation at 0x23d56a8bc08>,\n",
       " <tensorflow.python.keras.layers.convolutional.Conv2D at 0x23d56a8f908>,\n",
       " <tensorflow.python.keras.layers.normalization_v2.BatchNormalization at 0x23d56abaa08>,\n",
       " <tensorflow.python.keras.layers.core.Activation at 0x23d56aba8c8>,\n",
       " <tensorflow.python.keras.layers.convolutional.Conv2D at 0x23d56ac45c8>,\n",
       " <tensorflow.python.keras.layers.normalization_v2.BatchNormalization at 0x23d56aeafc8>,\n",
       " <tensorflow.python.keras.layers.merge.Add at 0x23d56aef308>,\n",
       " <tensorflow.python.keras.layers.core.Activation at 0x23d56b18e88>,\n",
       " <tensorflow.python.keras.layers.convolutional.Conv2D at 0x23d56b1c9c8>,\n",
       " <tensorflow.python.keras.layers.normalization_v2.BatchNormalization at 0x23d56b21908>,\n",
       " <tensorflow.python.keras.layers.core.Activation at 0x23d56b217c8>,\n",
       " <tensorflow.python.keras.layers.convolutional.Conv2D at 0x23d56b2b048>,\n",
       " <tensorflow.python.keras.layers.normalization_v2.BatchNormalization at 0x23d56b51f48>,\n",
       " <tensorflow.python.keras.layers.core.Activation at 0x23d56b55108>,\n",
       " <tensorflow.python.keras.layers.convolutional.Conv2D at 0x23d56b5ba08>,\n",
       " <tensorflow.python.keras.layers.normalization_v2.BatchNormalization at 0x23d56b84388>,\n",
       " <tensorflow.python.keras.layers.merge.Add at 0x23d56b84b48>,\n",
       " <tensorflow.python.keras.layers.core.Activation at 0x23d56b8f688>,\n",
       " <tensorflow.python.keras.layers.convolutional.Conv2D at 0x23d56bb6548>,\n",
       " <tensorflow.python.keras.layers.normalization_v2.BatchNormalization at 0x23d56bb9e88>,\n",
       " <tensorflow.python.keras.layers.core.Activation at 0x23d56bbc048>,\n",
       " <tensorflow.python.keras.layers.convolutional.Conv2D at 0x23d56bc1988>,\n",
       " <tensorflow.python.keras.layers.normalization_v2.BatchNormalization at 0x23d56d1f2c8>,\n",
       " <tensorflow.python.keras.layers.core.Activation at 0x23d56d23148>,\n",
       " <tensorflow.python.keras.layers.convolutional.Conv2D at 0x23d56d25308>,\n",
       " <tensorflow.python.keras.layers.normalization_v2.BatchNormalization at 0x23d57f61448>,\n",
       " <tensorflow.python.keras.layers.merge.Add at 0x23d57f61f08>,\n",
       " <tensorflow.python.keras.layers.core.Activation at 0x23d57f65dc8>,\n",
       " <tensorflow.python.keras.layers.convolutional.Conv2D at 0x23d57f8ef88>,\n",
       " <tensorflow.python.keras.layers.normalization_v2.BatchNormalization at 0x23d57f95a48>,\n",
       " <tensorflow.python.keras.layers.core.Activation at 0x23d57f958c8>,\n",
       " <tensorflow.python.keras.layers.convolutional.Conv2D at 0x23d57f9b0c8>,\n",
       " <tensorflow.python.keras.layers.normalization_v2.BatchNormalization at 0x23d57fc68c8>,\n",
       " <tensorflow.python.keras.layers.core.Activation at 0x23d57fc8248>,\n",
       " <tensorflow.python.keras.layers.convolutional.Conv2D at 0x23d57fc9b48>,\n",
       " <tensorflow.python.keras.layers.normalization_v2.BatchNormalization at 0x23d57ff84c8>,\n",
       " <tensorflow.python.keras.layers.merge.Add at 0x23d57ff8c88>,\n",
       " <tensorflow.python.keras.layers.core.Activation at 0x23d580027c8>,\n",
       " <tensorflow.python.keras.layers.convolutional.Conv2D at 0x23d5802e288>,\n",
       " <tensorflow.python.keras.layers.normalization_v2.BatchNormalization at 0x23d5805da88>,\n",
       " <tensorflow.python.keras.layers.core.Activation at 0x23d5805ab48>,\n",
       " <tensorflow.python.keras.layers.convolutional.Conv2D at 0x23d58624988>,\n",
       " <tensorflow.python.keras.layers.normalization_v2.BatchNormalization at 0x23d58650308>,\n",
       " <tensorflow.python.keras.layers.core.Activation at 0x23d58653308>,\n",
       " <tensorflow.python.keras.layers.convolutional.Conv2D at 0x23d58029688>,\n",
       " <tensorflow.python.keras.layers.convolutional.Conv2D at 0x23d58657348>,\n",
       " <tensorflow.python.keras.layers.normalization_v2.BatchNormalization at 0x23d5802cf08>,\n",
       " <tensorflow.python.keras.layers.normalization_v2.BatchNormalization at 0x23d58684488>,\n",
       " <tensorflow.python.keras.layers.merge.Add at 0x23d58684f48>,\n",
       " <tensorflow.python.keras.layers.core.Activation at 0x23d58689e08>,\n",
       " <tensorflow.python.keras.layers.convolutional.Conv2D at 0x23d586b0f08>,\n",
       " <tensorflow.python.keras.layers.normalization_v2.BatchNormalization at 0x23d586b8a88>,\n",
       " <tensorflow.python.keras.layers.core.Activation at 0x23d586bb148>,\n",
       " <tensorflow.python.keras.layers.convolutional.Conv2D at 0x23d586bf688>,\n",
       " <tensorflow.python.keras.layers.normalization_v2.BatchNormalization at 0x23d586e6908>,\n",
       " <tensorflow.python.keras.layers.core.Activation at 0x23d586ea288>,\n",
       " <tensorflow.python.keras.layers.convolutional.Conv2D at 0x23d586efb88>,\n",
       " <tensorflow.python.keras.layers.normalization_v2.BatchNormalization at 0x23d5871a508>,\n",
       " <tensorflow.python.keras.layers.merge.Add at 0x23d5871a288>,\n",
       " <tensorflow.python.keras.layers.core.Activation at 0x23d58842948>,\n",
       " <tensorflow.python.keras.layers.convolutional.Conv2D at 0x23d5886b688>,\n",
       " <tensorflow.python.keras.layers.normalization_v2.BatchNormalization at 0x23d5886ef08>,\n",
       " <tensorflow.python.keras.layers.core.Activation at 0x23d58873188>,\n",
       " <tensorflow.python.keras.layers.convolutional.Conv2D at 0x23d58877ac8>,\n",
       " <tensorflow.python.keras.layers.normalization_v2.BatchNormalization at 0x23d590c1408>,\n",
       " <tensorflow.python.keras.layers.core.Activation at 0x23d590c52c8>,\n",
       " <tensorflow.python.keras.layers.convolutional.Conv2D at 0x23d590c9448>,\n",
       " <tensorflow.python.keras.layers.normalization_v2.BatchNormalization at 0x23d590f6588>,\n",
       " <tensorflow.python.keras.layers.merge.Add at 0x23d590fbcc8>,\n",
       " <tensorflow.python.keras.layers.core.Activation at 0x23d59123d48>,\n",
       " <tensorflow.python.keras.layers.pooling.GlobalAveragePooling2D at 0x23d590f6548>]"
      ]
     },
     "execution_count": 12,
     "metadata": {},
     "output_type": "execute_result"
    }
   ],
   "source": [
    "model.layers[0].layers"
   ]
  },
  {
   "cell_type": "code",
   "execution_count": 13,
   "metadata": {
    "button": false,
    "new_sheet": false,
    "run_control": {
     "read_only": false
    }
   },
   "outputs": [],
   "source": [
    "model.layers[0].trainable = False"
   ]
  },
  {
   "cell_type": "code",
   "execution_count": 14,
   "metadata": {
    "button": false,
    "new_sheet": false,
    "run_control": {
     "read_only": false
    }
   },
   "outputs": [
    {
     "name": "stdout",
     "output_type": "stream",
     "text": [
      "Model: \"sequential\"\n",
      "_________________________________________________________________\n",
      "Layer (type)                 Output Shape              Param #   \n",
      "=================================================================\n",
      "resnet50 (Model)             (None, 2048)              23587712  \n",
      "_________________________________________________________________\n",
      "dense (Dense)                (None, 2)                 4098      \n",
      "=================================================================\n",
      "Total params: 23,591,810\n",
      "Trainable params: 4,098\n",
      "Non-trainable params: 23,587,712\n",
      "_________________________________________________________________\n"
     ]
    }
   ],
   "source": [
    "model.summary()"
   ]
  },
  {
   "cell_type": "code",
   "execution_count": 15,
   "metadata": {
    "button": false,
    "new_sheet": false,
    "run_control": {
     "read_only": false
    }
   },
   "outputs": [],
   "source": [
    "model.compile(optimizer='adam', loss='categorical_crossentropy', metrics=['accuracy'])"
   ]
  },
  {
   "cell_type": "code",
   "execution_count": 16,
   "metadata": {
    "button": false,
    "new_sheet": false,
    "run_control": {
     "read_only": false
    }
   },
   "outputs": [],
   "source": [
    "steps_per_epoch_training = len(train_generator)\n",
    "steps_per_epoch_validation = len(validation_generator)\n",
    "num_epochs = 36"
   ]
  },
  {
   "cell_type": "code",
   "execution_count": 17,
   "metadata": {
    "button": false,
    "new_sheet": false,
    "run_control": {
     "read_only": false
    }
   },
   "outputs": [
    {
     "name": "stdout",
     "output_type": "stream",
     "text": [
      "WARNING:tensorflow:From <ipython-input-17-172e67583a70>:7: Model.fit_generator (from tensorflow.python.keras.engine.training) is deprecated and will be removed in a future version.\n",
      "Instructions for updating:\n",
      "Please use Model.fit, which supports generators.\n",
      "Epoch 1/36\n",
      "2/2 [==============================] - 9s 4s/step - loss: 0.7979 - accuracy: 0.5279 - val_loss: 0.4492 - val_accuracy: 0.8205\n",
      "Epoch 2/36\n",
      "2/2 [==============================] - 7s 4s/step - loss: 0.5386 - accuracy: 0.7107 - val_loss: 0.3504 - val_accuracy: 0.8974\n",
      "Epoch 3/36\n",
      "2/2 [==============================] - 8s 4s/step - loss: 0.4183 - accuracy: 0.8122 - val_loss: 0.3041 - val_accuracy: 0.9231\n",
      "Epoch 4/36\n",
      "2/2 [==============================] - 8s 4s/step - loss: 0.3498 - accuracy: 0.8680 - val_loss: 0.2720 - val_accuracy: 0.9231\n",
      "Epoch 5/36\n",
      "2/2 [==============================] - 9s 5s/step - loss: 0.3065 - accuracy: 0.8883 - val_loss: 0.2490 - val_accuracy: 0.9231\n",
      "Epoch 6/36\n",
      "2/2 [==============================] - 7s 4s/step - loss: 0.2808 - accuracy: 0.8832 - val_loss: 0.2380 - val_accuracy: 0.9231\n",
      "Epoch 7/36\n",
      "2/2 [==============================] - 7s 4s/step - loss: 0.2569 - accuracy: 0.9036 - val_loss: 0.2410 - val_accuracy: 0.8974\n",
      "Epoch 8/36\n",
      "2/2 [==============================] - 9s 4s/step - loss: 0.2333 - accuracy: 0.8985 - val_loss: 0.2478 - val_accuracy: 0.8974\n",
      "Epoch 9/36\n",
      "2/2 [==============================] - 8s 4s/step - loss: 0.2150 - accuracy: 0.9086 - val_loss: 0.2492 - val_accuracy: 0.8974\n",
      "Epoch 10/36\n",
      "2/2 [==============================] - 8s 4s/step - loss: 0.1957 - accuracy: 0.9188 - val_loss: 0.2436 - val_accuracy: 0.8974\n",
      "Epoch 11/36\n",
      "2/2 [==============================] - 7s 4s/step - loss: 0.1809 - accuracy: 0.9188 - val_loss: 0.2298 - val_accuracy: 0.8974\n",
      "Epoch 12/36\n",
      "2/2 [==============================] - 10s 5s/step - loss: 0.1669 - accuracy: 0.9289 - val_loss: 0.2242 - val_accuracy: 0.8974\n",
      "Epoch 13/36\n",
      "2/2 [==============================] - 7s 4s/step - loss: 0.1550 - accuracy: 0.9340 - val_loss: 0.2289 - val_accuracy: 0.8974\n",
      "Epoch 14/36\n",
      "2/2 [==============================] - 8s 4s/step - loss: 0.1430 - accuracy: 0.9340 - val_loss: 0.2315 - val_accuracy: 0.8974\n",
      "Epoch 15/36\n",
      "2/2 [==============================] - 9s 4s/step - loss: 0.1340 - accuracy: 0.9492 - val_loss: 0.2298 - val_accuracy: 0.8974\n",
      "Epoch 16/36\n",
      "2/2 [==============================] - 7s 4s/step - loss: 0.1264 - accuracy: 0.9492 - val_loss: 0.2285 - val_accuracy: 0.8974\n",
      "Epoch 17/36\n",
      "2/2 [==============================] - 8s 4s/step - loss: 0.1194 - accuracy: 0.9492 - val_loss: 0.2272 - val_accuracy: 0.8974\n",
      "Epoch 18/36\n",
      "2/2 [==============================] - 8s 4s/step - loss: 0.1138 - accuracy: 0.9594 - val_loss: 0.2230 - val_accuracy: 0.8974\n",
      "Epoch 19/36\n",
      "2/2 [==============================] - 10s 5s/step - loss: 0.1075 - accuracy: 0.9645 - val_loss: 0.2252 - val_accuracy: 0.8974\n",
      "Epoch 20/36\n",
      "2/2 [==============================] - 8s 4s/step - loss: 0.1014 - accuracy: 0.9695 - val_loss: 0.2268 - val_accuracy: 0.8974\n",
      "Epoch 21/36\n",
      "2/2 [==============================] - 8s 4s/step - loss: 0.0970 - accuracy: 0.9695 - val_loss: 0.2273 - val_accuracy: 0.8974\n",
      "Epoch 22/36\n",
      "2/2 [==============================] - 8s 4s/step - loss: 0.0923 - accuracy: 0.9797 - val_loss: 0.2286 - val_accuracy: 0.8974\n",
      "Epoch 23/36\n",
      "2/2 [==============================] - 8s 4s/step - loss: 0.0883 - accuracy: 0.9797 - val_loss: 0.2289 - val_accuracy: 0.8974\n",
      "Epoch 24/36\n",
      "2/2 [==============================] - 8s 4s/step - loss: 0.0844 - accuracy: 0.9797 - val_loss: 0.2310 - val_accuracy: 0.8974\n",
      "Epoch 25/36\n",
      "2/2 [==============================] - 8s 4s/step - loss: 0.0806 - accuracy: 0.9797 - val_loss: 0.2305 - val_accuracy: 0.8974\n",
      "Epoch 26/36\n",
      "2/2 [==============================] - 8s 4s/step - loss: 0.0779 - accuracy: 0.9848 - val_loss: 0.2311 - val_accuracy: 0.8974\n",
      "Epoch 27/36\n",
      "2/2 [==============================] - 7s 4s/step - loss: 0.0743 - accuracy: 0.9848 - val_loss: 0.2290 - val_accuracy: 0.8974\n",
      "Epoch 28/36\n",
      "2/2 [==============================] - 8s 4s/step - loss: 0.0717 - accuracy: 0.9848 - val_loss: 0.2274 - val_accuracy: 0.8974\n",
      "Epoch 29/36\n",
      "2/2 [==============================] - 8s 4s/step - loss: 0.0688 - accuracy: 0.9898 - val_loss: 0.2256 - val_accuracy: 0.8974\n",
      "Epoch 30/36\n",
      "2/2 [==============================] - 8s 4s/step - loss: 0.0667 - accuracy: 0.9898 - val_loss: 0.2246 - val_accuracy: 0.8974\n",
      "Epoch 31/36\n",
      "2/2 [==============================] - 8s 4s/step - loss: 0.0641 - accuracy: 0.9898 - val_loss: 0.2267 - val_accuracy: 0.8974\n",
      "Epoch 32/36\n",
      "2/2 [==============================] - 8s 4s/step - loss: 0.0620 - accuracy: 0.9898 - val_loss: 0.2276 - val_accuracy: 0.8974\n",
      "Epoch 33/36\n",
      "2/2 [==============================] - 8s 4s/step - loss: 0.0597 - accuracy: 0.9949 - val_loss: 0.2301 - val_accuracy: 0.8974\n",
      "Epoch 34/36\n",
      "2/2 [==============================] - 8s 4s/step - loss: 0.0578 - accuracy: 0.9949 - val_loss: 0.2303 - val_accuracy: 0.8974\n",
      "Epoch 35/36\n",
      "2/2 [==============================] - 7s 4s/step - loss: 0.0560 - accuracy: 1.0000 - val_loss: 0.2283 - val_accuracy: 0.8974\n",
      "Epoch 36/36\n",
      "2/2 [==============================] - 9s 4s/step - loss: 0.0542 - accuracy: 1.0000 - val_loss: 0.2270 - val_accuracy: 0.8974\n"
     ]
    }
   ],
   "source": [
    "fit_history = model.fit_generator(\n",
    "    train_generator,\n",
    "    steps_per_epoch=steps_per_epoch_training,\n",
    "    epochs=num_epochs,\n",
    "    validation_data=validation_generator,\n",
    "    validation_steps=steps_per_epoch_validation,\n",
    "    verbose=1,\n",
    ")"
   ]
  },
  {
   "cell_type": "code",
   "execution_count": 19,
   "metadata": {
    "button": false,
    "new_sheet": false,
    "run_control": {
     "read_only": false
    }
   },
   "outputs": [],
   "source": [
    "model.save('cocoon resnet_model.h5')"
   ]
  },
  {
   "cell_type": "code",
   "execution_count": null,
   "metadata": {},
   "outputs": [],
   "source": []
  },
  {
   "cell_type": "code",
   "execution_count": null,
   "metadata": {},
   "outputs": [],
   "source": []
  },
  {
   "cell_type": "code",
   "execution_count": null,
   "metadata": {},
   "outputs": [],
   "source": []
  },
  {
   "cell_type": "code",
   "execution_count": null,
   "metadata": {},
   "outputs": [],
   "source": []
  },
  {
   "cell_type": "code",
   "execution_count": null,
   "metadata": {},
   "outputs": [],
   "source": []
  },
  {
   "cell_type": "code",
   "execution_count": null,
   "metadata": {},
   "outputs": [],
   "source": []
  }
 ],
 "metadata": {
  "kernelspec": {
   "display_name": "Python 3",
   "language": "python",
   "name": "python3"
  },
  "language_info": {
   "codemirror_mode": {
    "name": "ipython",
    "version": 3
   },
   "file_extension": ".py",
   "mimetype": "text/x-python",
   "name": "python",
   "nbconvert_exporter": "python",
   "pygments_lexer": "ipython3",
   "version": "3.7.4"
  }
 },
 "nbformat": 4,
 "nbformat_minor": 4
}
